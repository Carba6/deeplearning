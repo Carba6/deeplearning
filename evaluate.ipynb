{
  "nbformat": 4,
  "nbformat_minor": 0,
  "metadata": {
    "colab": {
      "provenance": [],
      "authorship_tag": "ABX9TyP6UJu/6K0UYBcPD2itpkD+",
      "include_colab_link": true
    },
    "kernelspec": {
      "name": "python3",
      "display_name": "Python 3"
    },
    "language_info": {
      "name": "python"
    }
  },
  "cells": [
    {
      "cell_type": "markdown",
      "metadata": {
        "id": "view-in-github",
        "colab_type": "text"
      },
      "source": [
        "<a href=\"https://colab.research.google.com/github/Carba6/deeplearning/blob/main/evaluate.ipynb\" target=\"_parent\"><img src=\"https://colab.research.google.com/assets/colab-badge.svg\" alt=\"Open In Colab\"/></a>"
      ]
    },
    {
      "cell_type": "code",
      "execution_count": null,
      "metadata": {
        "colab": {
          "base_uri": "https://localhost:8080/"
        },
        "id": "rausbtyEtPYK",
        "outputId": "aa904b88-079a-4bac-f9f8-37599e9068d1"
      },
      "outputs": [
        {
          "output_type": "stream",
          "name": "stdout",
          "text": [
            "Files already downloaded and verified\n",
            "Creat WRN_quant successfully!\n"
          ]
        }
      ],
      "source": [
        "import torch\n",
        "import torch.nn as nn\n",
        "from torchvision import datasets\n",
        "import torchvision.transforms as transforms\n",
        "from torch.utils.data import DataLoader\n",
        "from torch.quantization import FakeQuantize, QConfig\n",
        "from torch.quantization import HistogramObserver\n",
        "from WRN_quant import Wide_ResNet as WRN_quant\n",
        "from torch.quantization import get_default_qconfig\n",
        "\n",
        "class CustomHistogramObserverActivation(HistogramObserver):\n",
        "    def __init__(self, num_bits, **kwargs):\n",
        "        self.num_bits = num_bits\n",
        "        super(CustomHistogramObserverActivation, self).__init__(**kwargs)\n",
        "\n",
        "    def calculate_qparams(self):\n",
        "        min_val, max_val = self.min_val, self.max_val\n",
        "        scale = (max_val - min_val) / (2 ** self.num_bits - 1)\n",
        "        zero_point = 0\n",
        "        return torch.tensor([scale]), torch.tensor([zero_point], dtype=torch.int64)\n",
        "\n",
        "\n",
        "class CustomHistogramObserverWeight(HistogramObserver):\n",
        "    def __init__(self, num_bits, **kwargs):\n",
        "        self.num_bits = num_bits\n",
        "        super(CustomHistogramObserverWeight, self).__init__(**kwargs)\n",
        "\n",
        "    def calculate_qparams(self):\n",
        "        min_val, max_val = self.min_val, self.max_val\n",
        "        scale = (max_val - min_val) / (2 ** self.num_bits - 1)\n",
        "        zero_point = int(-min_val / scale)\n",
        "        return torch.tensor([scale]), torch.tensor([zero_point], dtype=torch.int64)\n",
        "\n",
        "\n",
        "def custom_qconfig(num_bits):\n",
        "    return QConfig(\n",
        "        activation=FakeQuantize.with_args(observer=CustomHistogramObserverActivation, num_bits=num_bits,dtype=torch.quint8),\n",
        "        weight=FakeQuantize.with_args(observer=CustomHistogramObserverWeight, num_bits=num_bits, dtype=torch.qint8),\n",
        "    )\n",
        "\n",
        "def evaluate(model, dataloader, device):\n",
        "    model.eval()\n",
        "    correct = 0\n",
        "    total = 0\n",
        "    with torch.no_grad():\n",
        "        for inputs, targets in dataloader:\n",
        "            inputs, targets = inputs.to(device), targets.to(device)\n",
        "            outputs = model(inputs)\n",
        "            _, predicted = torch.max(outputs, 1)\n",
        "            total += targets.size(0)\n",
        "            correct += (predicted == targets).sum().item()\n",
        "    return correct / total\n",
        "\n",
        "\n",
        "def evaluate_num_bits_model(num_bits, depth, widen_factor, num_classes, dropout_rate, device, test_loader):\n",
        "    model = WRN_quant(depth=depth, widen_factor=widen_factor, num_classes=num_classes, dropout_rate=dropout_rate).to(device)\n",
        "    model_path = f\"WRN_{depth}_{widen_factor}_Relu6_{num_bits}bit.pth\"\n",
        "    !cp /content/drive/MyDrive/model/{model_path} /content\n",
        "    model.eval()\n",
        "    if num_bits == 8:\n",
        "      model.qconfig = get_default_qconfig('fbgemm')\n",
        "    else:\n",
        "      model.qconfig = custom_qconfig(num_bits)\n",
        "    torch.quantization.prepare(model, inplace=True)\n",
        "    torch.quantization.convert(model, inplace=True)\n",
        "    model.load_state_dict(torch.load(model_path))\n",
        "    quantized_accuracy = evaluate(model, test_loader, 'cpu')\n",
        "    print(f\"{num_bits} bits model test accuracy: {quantized_accuracy * 100:.2f}%\")\n",
        "    return\n",
        "\n",
        "\n",
        "def main():\n",
        "    # 模型参数\n",
        "\n",
        "    depth = 28\n",
        "    widen_factor = 10\n",
        "    num_classes = 10\n",
        "    dropout_rate = 0.3\n",
        "    batch_size = 128\n",
        "    # 量化范围\n",
        "\n",
        "    min_bits = 1  # 最小为1\n",
        "    max_bits = 8  # 最大为8\n",
        "\n",
        "    device = torch.device(\"cpu\")\n",
        "\n",
        "    # 加载CIFAR-10数据集\n",
        "    transform = transforms.Compose([\n",
        "        transforms.Resize((32, 32)),\n",
        "        transforms.ToTensor(),\n",
        "        transforms.Normalize((0.5, 0.5, 0.5), (0.5, 0.5, 0.5))\n",
        "    ])\n",
        "\n",
        "    testset = datasets.CIFAR10(root='./data', train=False, download=True, transform=transform)\n",
        "    test_loader = DataLoader(testset, batch_size=batch_size, shuffle=False, num_workers=2)\n",
        "\n",
        "    for num_bits in range(min_bits, max_bits + 1):\n",
        "        evaluate_num_bits_model(num_bits, depth, widen_factor, num_classes, dropout_rate, device, test_loader)\n",
        "\n",
        "\n",
        "if __name__ == '__main__':\n",
        "    main()"
      ]
    },
    {
      "cell_type": "code",
      "source": [
        "from google.colab import drive\n",
        "drive.mount('/content/drive')"
      ],
      "metadata": {
        "colab": {
          "base_uri": "https://localhost:8080/"
        },
        "id": "cyeNWSPOtiz7",
        "outputId": "3cdec185-dcef-43f3-e7f5-c39a64cf9968"
      },
      "execution_count": 1,
      "outputs": [
        {
          "output_type": "stream",
          "name": "stdout",
          "text": [
            "Mounted at /content/drive\n"
          ]
        }
      ]
    },
    {
      "cell_type": "code",
      "source": [
        "!cp /content/WRN_28_10_Relu6_full_precision.pth /content/drive/MyDrive/model"
      ],
      "metadata": {
        "id": "DeW4-SgAtsFa"
      },
      "execution_count": null,
      "outputs": []
    }
  ]
}